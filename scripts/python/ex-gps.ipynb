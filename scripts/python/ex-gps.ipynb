{
 "cells": [
  {
   "cell_type": "code",
   "execution_count": 1,
   "metadata": {},
   "outputs": [
    {
     "name": "stderr",
     "output_type": "stream",
     "text": [
      "/Users/emilio/Documents/GitHub/phd-thesis/scripts/python/venv/lib/python3.8/site-packages/gpflow/experimental/utils.py:42: UserWarning: You're calling gpflow.experimental.check_shapes.decorator.check_shapes which is considered *experimental*. Expect: breaking changes, poor documentation, and bugs.\n",
      "  warn(\n",
      "/Users/emilio/Documents/GitHub/phd-thesis/scripts/python/venv/lib/python3.8/site-packages/gpflow/experimental/utils.py:42: UserWarning: You're calling gpflow.experimental.check_shapes.inheritance.inherit_check_shapes which is considered *experimental*. Expect: breaking changes, poor documentation, and bugs.\n",
      "  warn(\n"
     ]
    }
   ],
   "source": [
    "import os\n",
    "os.environ['TF_CPP_MIN_LOG_LEVEL'] = '3'  \n",
    "\n",
    "import numpy as np\n",
    "import matplotlib.pyplot as plt\n",
    "\n",
    "import gpflow\n",
    "from gpflow.models import GPR, SGPR, GPRFITC\n",
    "from gpflow.utilities import print_summary, set_trainable\n",
    "import tensorflow as tf\n",
    "\n",
    "import plot_params\n",
    "plt.rcParams.update(plot_params.fig_opt_bounds_ex) "
   ]
  },
  {
   "cell_type": "code",
   "execution_count": 2,
   "metadata": {},
   "outputs": [],
   "source": [
    "class GandL_1D:\n",
    "    \n",
    "    def __init__(self):\n",
    "\n",
    "        self.name = 'GandL'\n",
    "        self.xdim = 1\n",
    "        self.xmin = [0.5]\n",
    "        self.xmax = [2.5]\n",
    "        self.gran = 200\n",
    "        self.analytic_min = 0.13098886501   \n",
    "        \n",
    "    def __call__(self, x):\n",
    "        \n",
    "        output = np.divide(np.sin(10*np.pi*x), 2*x) + np.power((x - 1), 4) + 1\n",
    "        return output.reshape(-1, 1)"
   ]
  },
  {
   "cell_type": "code",
   "execution_count": 159,
   "metadata": {},
   "outputs": [
    {
     "data": {
      "image/png": "[encoded data removed]",
      "text/plain": [
       "<Figure size 170x150 with 1 Axes>"
      ]
     },
     "metadata": {},
     "output_type": "display_data"
    }
   ],
   "source": [
    "\n",
    "f = GandL_1D()\n",
    "\n",
    "xmin, xmax = 0.5, 2.5\n",
    "ymin, ymax = 0, 6\n",
    "xx = np.linspace(xmin, xmax, 200).reshape(-1, 1) \n",
    "\n",
    "np.random.seed(2)\n",
    "N = 60  \n",
    "sigma  = 0.15\n",
    "X = np.random.uniform(f.xmin, f.xmax, (N, f.xdim))\n",
    "delta = np.random.normal(0, sigma, (N, 1))\n",
    "Y = f(X) + delta\n",
    "data = (tf.convert_to_tensor(X, \"float64\"), tf.convert_to_tensor(Y, \"float64\"))\n",
    "\n",
    "fig = plt.figure()\n",
    "plt.xlabel('$x$')\n",
    "plt.ylabel('$f(x)$')\n",
    "#fig.axes[0].yaxis.set_label_coords(-0.18, .5)\n",
    "#fig.axes[0].xaxis.set_label_coords(0.5, -0.18)\n",
    "#plt.xticks([-10, 0, 10])\n",
    "#plt.yticks([-10, 0, 10])\n",
    "plt.xlim(xmin, xmax)\n",
    "plt.ylim(ymin,ymax)\n",
    "#plt.title(\"\".join(['$\\Vert f \\Vert_\\mathcal{H} = \\;$', str(round(s.norm(),2))]))\n",
    "plt.plot(xx, f(xx), \"k--\")\n",
    "\n",
    "#plt.plot(X, Y, \"o\")\n",
    "#plt.text(-1.5, 1.8,\"$f^\\star(x)$\")#, fontsize=7)\n",
    "\n",
    "filename = 'chap3_ex_gp_A'\n",
    "plt.savefig(\"\".join([plot_params.path_to_img_folder, filename, \".pdf\"]), bbox_inches='tight', pad_inches = 0.)"
   ]
  },
  {
   "cell_type": "code",
   "execution_count": 195,
   "metadata": {},
   "outputs": [
    {
     "name": "stdout",
     "output_type": "stream",
     "text": [
      "GPR trained:\n",
      "╒═════════════════════════╤═══════════╤══════════════════╤═════════╤═════════════╤═════════╤═════════╤═════════╕\n",
      "│ name                    │ class     │ transform        │ prior   │ trainable   │ shape   │ dtype   │   value │\n",
      "╞═════════════════════════╪═══════════╪══════════════════╪═════════╪═════════════╪═════════╪═════════╪═════════╡\n",
      "│ GPR.kernel.variance     │ Parameter │ Softplus         │         │ True        │ ()      │ float64 │       1 │\n",
      "├─────────────────────────┼───────────┼──────────────────┼─────────┼─────────────┼─────────┼─────────┼─────────┤\n",
      "│ GPR.kernel.lengthscales │ Parameter │ Softplus         │         │ True        │ ()      │ float64 │       1 │\n",
      "├─────────────────────────┼───────────┼──────────────────┼─────────┼─────────────┼─────────┼─────────┼─────────┤\n",
      "│ GPR.kernel.alpha        │ Parameter │ Softplus         │         │ True        │ ()      │ float64 │     100 │\n",
      "├─────────────────────────┼───────────┼──────────────────┼─────────┼─────────────┼─────────┼─────────┼─────────┤\n",
      "│ GPR.likelihood.variance │ Parameter │ Softplus + Shift │         │ True        │ ()      │ float64 │       1 │\n",
      "╘═════════════════════════╧═══════════╧══════════════════╧═════════╧═════════════╧═════════╧═════════╧═════════╛\n",
      "GPR trained:\n",
      "╒═════════════════════════╤═══════════╤══════════════════╤═════════╤═════════════╤═════════╤═════════╤═════════╕\n",
      "│ name                    │ class     │ transform        │ prior   │ trainable   │ shape   │ dtype   │   value │\n",
      "╞═════════════════════════╪═══════════╪══════════════════╪═════════╪═════════════╪═════════╪═════════╪═════════╡\n",
      "│ GPR.kernel.variance     │ Parameter │ Softplus         │         │ True        │ ()      │ float64 │ 8.10553 │\n",
      "├─────────────────────────┼───────────┼──────────────────┼─────────┼─────────────┼─────────┼─────────┼─────────┤\n",
      "│ GPR.kernel.lengthscales │ Parameter │ Softplus         │         │ True        │ ()      │ float64 │ 0.20815 │\n",
      "├─────────────────────────┼───────────┼──────────────────┼─────────┼─────────────┼─────────┼─────────┼─────────┤\n",
      "│ GPR.kernel.alpha        │ Parameter │ Softplus         │         │ True        │ ()      │ float64 │ 0.06066 │\n",
      "├─────────────────────────┼───────────┼──────────────────┼─────────┼─────────────┼─────────┼─────────┼─────────┤\n",
      "│ GPR.likelihood.variance │ Parameter │ Softplus + Shift │         │ True        │ ()      │ float64 │ 0.02327 │\n",
      "╘═════════════════════════╧═══════════╧══════════════════╧═════════╧═════════════╧═════════╧═════════╧═════════╛\n",
      "GPR likelihood:\n",
      "tf.Tensor(-29.805208591237943, shape=(), dtype=float64)\n"
     ]
    },
    {
     "data": {
      "image/png": "[encoded data removed]",
      "text/plain": [
       "<Figure size 170x150 with 1 Axes>"
      ]
     },
     "metadata": {},
     "output_type": "display_data"
    }
   ],
   "source": [
    "#kernel = gpflow.kernels.SquaredExponential(lengthscales=1)\n",
    "kernel = gpflow.kernels.RationalQuadratic(lengthscales=1, alpha=100)\n",
    "\n",
    "my_gp  = gpflow.models.GPR(data, kernel=kernel) \n",
    "opt = gpflow.optimizers.Scipy()\n",
    "print('GPR trained:'), print_summary(my_gp)\n",
    "opt.minimize(my_gp.training_loss, my_gp.trainable_variables, tol=1e-11, options=dict(maxiter=5000), method='bfgs')#method='SLSQP')#method='l-bfgs-b')\n",
    "print('GPR trained:'), print_summary(my_gp)\n",
    "print('GPR likelihood:'), print(my_gp.log_marginal_likelihood())\n",
    "\n",
    "mean, var = my_gp.predict_f(xx)\n",
    "\n",
    "# Plotting the results (two standard deviations = 95% confidence)\n",
    "fig = plt.figure()\n",
    "plt.xlabel('$x$')\n",
    "plt.ylabel('$\\mu(x) \\,\\pm$ 3$\\,$var$(x)$')\n",
    "fig.axes[0].xaxis.set_label_coords(0.5, -0.18)\n",
    "plt.plot(xx, mean, color=plot_params.colors[\"red\"])\n",
    "plt.fill_between(xx[:,0],\n",
    "                 mean[:,0] - 3 * np.sqrt(var[:,0]),\n",
    "                 mean[:,0] + 3 * np.sqrt(var[:,0]),\n",
    "                 color=plot_params.colors[\"red\"],\n",
    "                 alpha=0.2, lw=0)\n",
    "\n",
    "plt.plot(X, Y, \"o\", ms=2.6)\n",
    "plt.xlim(xmin, xmax)\n",
    "plt.ylim(ymin,ymax)\n",
    "\n",
    "filename = 'chap3_ex_gp_B'\n",
    "plt.savefig(\"\".join([plot_params.path_to_img_folder, filename, \".pdf\"]), bbox_inches='tight', pad_inches = 0.)\n"
   ]
  },
  {
   "cell_type": "code",
   "execution_count": 194,
   "metadata": {},
   "outputs": [
    {
     "name": "stdout",
     "output_type": "stream",
     "text": [
      "GPR trained:\n",
      "╒═════════════════════════╤═══════════╤══════════════════╤═════════╤═════════════╤═════════╤═════════╤══════════════╕\n",
      "│ name                    │ class     │ transform        │ prior   │ trainable   │ shape   │ dtype   │        value │\n",
      "╞═════════════════════════╪═══════════╪══════════════════╪═════════╪═════════════╪═════════╪═════════╪══════════════╡\n",
      "│ GPR.kernel.variance     │ Parameter │ Softplus         │         │ True        │ ()      │ float64 │     46.6257  │\n",
      "├─────────────────────────┼───────────┼──────────────────┼─────────┼─────────────┼─────────┼─────────┼──────────────┤\n",
      "│ GPR.kernel.lengthscales │ Parameter │ Softplus         │         │ True        │ ()      │ float64 │      1.20071 │\n",
      "├─────────────────────────┼───────────┼──────────────────┼─────────┼─────────────┼─────────┼─────────┼──────────────┤\n",
      "│ GPR.kernel.alpha        │ Parameter │ Softplus         │         │ True        │ ()      │ float64 │ 519629       │\n",
      "├─────────────────────────┼───────────┼──────────────────┼─────────┼─────────────┼─────────┼─────────┼──────────────┤\n",
      "│ GPR.likelihood.variance │ Parameter │ Softplus + Shift │         │ True        │ ()      │ float64 │      0.19325 │\n",
      "╘═════════════════════════╧═══════════╧══════════════════╧═════════╧═════════════╧═════════╧═════════╧══════════════╛\n",
      "GPR likelihood:\n",
      "tf.Tensor(-48.4627548650563, shape=(), dtype=float64)\n"
     ]
    },
    {
     "data": {
      "image/png": "[encoded data removed]",
      "text/plain": [
       "<Figure size 170x150 with 1 Axes>"
      ]
     },
     "metadata": {},
     "output_type": "display_data"
    }
   ],
   "source": [
    "#kernel = gpflow.kernels.SquaredExponential(lengthscales=0.01)\n",
    "kernel = gpflow.kernels.RationalQuadratic(lengthscales=0.01, alpha=100)\n",
    "\n",
    "my_gp  = gpflow.models.GPR(data, kernel=kernel) \n",
    "opt = gpflow.optimizers.Scipy()\n",
    "opt.minimize(my_gp.training_loss, my_gp.trainable_variables, tol=1e-11, options=dict(maxiter=5000), method='bfgs')#method='SLSQP')#method='l-bfgs-b')\n",
    "print('GPR trained:'), print_summary(my_gp)\n",
    "print('GPR likelihood:'), print(my_gp.log_marginal_likelihood())\n",
    "\n",
    "mean, var = my_gp.predict_f(xx)\n",
    "\n",
    "# Plotting the results (two standard deviations = 95% confidence)\n",
    "fig = plt.figure()\n",
    "plt.xlabel('$x$')\n",
    "plt.ylabel('$\\mu(x) \\,\\pm$ 3$\\,$var$(x)$')\n",
    "fig.axes[0].xaxis.set_label_coords(0.5, -0.18)\n",
    "plt.plot(xx, mean, color=plot_params.colors[\"red\"])\n",
    "plt.fill_between(xx[:,0],\n",
    "                 mean[:,0] - 3 * np.sqrt(var[:,0]),\n",
    "                 mean[:,0] + 3 * np.sqrt(var[:,0]),\n",
    "                 color=plot_params.colors[\"red\"],\n",
    "                 alpha=0.2, lw=0)\n",
    "plt.plot(X, Y, \"o\", ms=2.6)\n",
    "plt.xlim(xmin, xmax)\n",
    "plt.ylim(ymin,ymax)\n",
    "\n",
    "filename = 'chap3_ex_gp_C'\n",
    "plt.savefig(\"\".join([plot_params.path_to_img_folder, filename, \".pdf\"]), bbox_inches='tight', pad_inches = 0.)"
   ]
  },
  {
   "cell_type": "code",
   "execution_count": 235,
   "metadata": {},
   "outputs": [
    {
     "data": {
      "image/png": "[encoded data removed]",
      "text/plain": [
       "<Figure size 170x150 with 1 Axes>"
      ]
     },
     "metadata": {},
     "output_type": "display_data"
    }
   ],
   "source": [
    "np.random.seed(1) \n",
    "k = RBF(length_scale=2)\n",
    "\n",
    "xmin, xmax = -10., 10\n",
    "xx = np.linspace(xmin, xmax, 100).reshape(-1, 1) \n",
    "\n",
    "n_centers = 15\n",
    "centers = np.linspace(xmin*0.6, xmax*0.6, n_centers).reshape(-1, 1)\n",
    "values = 0.1*(np.square(centers) * np.sin(centers))\n",
    "s = Interpolant(k, centers, values, jitter=1e-10)\n",
    "gamma = s.norm()\n",
    "\n",
    "#X = np.array([-8, -5, -2, 0, 2, 5, 8]).reshape(-1,1)\n",
    "X = np.array([-8.5]).reshape(-1,1)\n",
    "fX = s(X)\n",
    "\n",
    "delta_bar = 0.8\n",
    "delta = np.random.uniform(-delta_bar, delta_bar, fX.shape)\n",
    "Y = fX + delta\n",
    "\n",
    "bounds = Optimal_Bounds(X, Y, k, gamma, delta_bar)\n",
    "ub = bounds(xx, \"upper\")\n",
    "lb = bounds(xx, \"lower\")\n",
    "\n",
    "fig = plt.figure()\n",
    "plt.xlabel('$x$')\n",
    "fig.axes[0].xaxis.set_label_coords(0.5, -0.18)\n",
    "plt.xticks([-10, 0, 10])\n",
    "plt.yticks([-10, 0, 10])\n",
    "plt.xlim(-10,10)\n",
    "plt.ylim(-10,10)\n",
    "plt.plot(xx, s(xx), \"k--\")\n",
    "plt.fill_between(xx.reshape(-1,), ub.reshape(-1,), lb.reshape(-1,), facecolor=plot_params.colors[\"red\"], alpha=0.2)\n",
    "plt.plot(X, Y, \"o\")\n",
    "\n",
    "filename = 'chap2_ex3_opt_bounds_A'\n",
    "plt.savefig(\"\".join([plot_params.path_to_img_folder, filename, \".pdf\"]), bbox_inches='tight', pad_inches = 0.)"
   ]
  },
  {
   "cell_type": "code",
   "execution_count": 243,
   "metadata": {},
   "outputs": [
    {
     "data": {
      "image/png": "[encoded data removed]",
      "text/plain": [
       "<Figure size 170x150 with 1 Axes>"
      ]
     },
     "metadata": {},
     "output_type": "display_data"
    }
   ],
   "source": [
    "\n",
    "fig = plt.figure()\n",
    "plt.xlabel('$x$')\n",
    "plt.xticks([-10, 0, 10])\n",
    "plt.yticks([-10, 0, 10])\n",
    "plt.xlim(-10,10)\n",
    "plt.ylim(-10,10)\n",
    "plt.grid(0)\n",
    "fig.axes[0].xaxis.set_label_coords(0.5, -0.18)\n",
    "plt.text(-2.3, -1.2,\"$\\cdots$\", fontsize=20)\n",
    "\n",
    "filename = 'chap2_ex3_dots'\n",
    "plt.savefig(\"\".join([plot_params.path_to_img_folder, filename, \".pdf\"]), bbox_inches='tight', pad_inches = 0.)\n"
   ]
  },
  {
   "cell_type": "code",
   "execution_count": null,
   "metadata": {},
   "outputs": [],
   "source": []
  }
 ],
 "metadata": {
  "kernelspec": {
   "display_name": "Python 3.8.2 ('venv': venv)",
   "language": "python",
   "name": "python3"
  },
  "language_info": {
   "codemirror_mode": {
    "name": "ipython",
    "version": 3
   },
   "file_extension": ".py",
   "mimetype": "text/x-python",
   "name": "python",
   "nbconvert_exporter": "python",
   "pygments_lexer": "ipython3",
   "version": "3.8.2"
  },
  "orig_nbformat": 4,
  "vscode": {
   "interpreter": {
    "hash": "7edd9c65b3d2defd8b81d382d1db8b53ad20c31ee2c23ba60708737257b317bb"
   }
  }
 },
 "nbformat": 4,
 "nbformat_minor": 2
}
