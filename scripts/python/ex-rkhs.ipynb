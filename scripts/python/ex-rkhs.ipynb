{
 "cells": [
  {
   "cell_type": "code",
   "execution_count": 1,
   "metadata": {},
   "outputs": [
    {
     "name": "stderr",
     "output_type": "stream",
     "text": [
      "2022-12-05 10:42:00.992661: I tensorflow/core/platform/cpu_feature_guard.cc:193] This TensorFlow binary is optimized with oneAPI Deep Neural Network Library (oneDNN) to use the following CPU instructions in performance-critical operations:  AVX2 FMA\n",
      "To enable them in other operations, rebuild TensorFlow with the appropriate compiler flags.\n",
      "/Users/emilio/Documents/GitHub/phd-thesis/scripts/python/venv/lib/python3.8/site-packages/gpflow/experimental/utils.py:42: UserWarning: You're calling gpflow.experimental.check_shapes.decorator.check_shapes which is considered *experimental*. Expect: breaking changes, poor documentation, and bugs.\n",
      "  warn(\n",
      "/Users/emilio/Documents/GitHub/phd-thesis/scripts/python/venv/lib/python3.8/site-packages/gpflow/experimental/utils.py:42: UserWarning: You're calling gpflow.experimental.check_shapes.inheritance.inherit_check_shapes which is considered *experimental*. Expect: breaking changes, poor documentation, and bugs.\n",
      "  warn(\n"
     ]
    }
   ],
   "source": [
    "import numpy as np\n",
    "import gpflow\n",
    " \n",
    "import matplotlib.pyplot as plt\n",
    "import plot_params\n",
    "plt.rcParams.update(plot_params.fig_kernel_ex) \n",
    "\n",
    "np.random.seed(1) \n",
    "\n",
    "class Interpolant():\n",
    "    \n",
    "    def __init__(self, kernel, X, Y):\n",
    "        \n",
    "        self.kernel = kernel\n",
    "        self.jitter = 1e-8\n",
    "        self.N = X.shape[0]\n",
    "        self.centers = X\n",
    "        self.weights = np.linalg.solve(self.kernel(X,X) + self.jitter*np.eye(self.N,self.N),Y)\n",
    "    \n",
    "    def __call__(self, x):\n",
    "        \n",
    "        fx = np.zeros(x.shape)\n",
    "        for i in range(self.N):\n",
    "            fx = fx + np.array(self.weights[i]*self.kernel(self.centers[i].reshape(-1,1),x)).reshape(-1,1)\n",
    "        return fx\n",
    "    \n",
    "    def norm(self):\n",
    "        \n",
    "        return np.sqrt(self.weights.T @ self.kernel(self.centers,self.centers) @ self.weights)[0][0]\n",
    "    \n",
    "    def _power(self, x):\n",
    "        \n",
    "        Kxx = np.diag(self.kernel(x,x))\n",
    "        KxX = self.kernel(x,self.centers)\n",
    "        KXx = self.kernel(self.centers,x)\n",
    "        KXX = self.kernel(self.centers,self.centers) + self.jitter*np.eye(self.centers.shape[0],self.centers.shape[0])\n",
    "        \n",
    "        return np.sqrt( Kxx - np.diag( KxX @ np.linalg.solve(KXX,KXx) ))\n",
    "    \n",
    "    def bounds(self, x, norm_f):\n",
    "            \n",
    "        return (self._power(x) * np.sqrt(norm_f**2 - self.norm()**2)).reshape(-1,1)"
   ]
  },
  {
   "cell_type": "code",
   "execution_count": 7,
   "metadata": {},
   "outputs": [
    {
     "data": {
      "image/png": "[encoded data removed]",
      "text/plain": [
       "<Figure size 180x150 with 1 Axes>"
      ]
     },
     "metadata": {},
     "output_type": "display_data"
    }
   ],
   "source": [
    "xmin, xmax = -2, 2\n",
    "xx = np.linspace(xmin * 1.15, xmax * 1.15, 1000).reshape(-1, 1) \n",
    "\n",
    "X = np.array([0.]).reshape(-1,1)\n",
    "Y = np.array([1.]).reshape(-1,1)\n",
    "k = gpflow.kernels.Matern12()\n",
    "s = Interpolant(k, X, Y)\n",
    "\n",
    "fig = plt.figure()\n",
    "plt.title(\"\".join([\"$\\Vert f \\Vert_\\mathcal{H} = \\;$\", str(round(s.norm(),2))]))\n",
    "plt.xlabel('$x$')\n",
    "plt.ylabel('$f(x)$')\n",
    "fig.axes[0].yaxis.set_label_coords(-0.03, .5)\n",
    "fig.axes[0].xaxis.set_label_coords(0.5, -0.05)\n",
    "plt.plot(xx.reshape(-1), s(xx).reshape(-1) , color=plot_params.colors[\"red\"])\n",
    "plt.xlim(xmin*1.1,xmax*1.1)\n",
    "plt.ylim(0,1.1)\n",
    "plt.xticks([])\n",
    "plt.yticks([])\n",
    "\n",
    "filename = 'chap2_rkhs_member_1'\n",
    "plt.savefig(\"\".join([plot_params.path_to_img_folder, filename, \".svg\"]), bbox_inches='tight', pad_inches = 0.02)"
   ]
  },
  {
   "cell_type": "code",
   "execution_count": 8,
   "metadata": {},
   "outputs": [
    {
     "data": {
      "image/png": "[encoded data removed]",
      "text/plain": [
       "<Figure size 180x150 with 1 Axes>"
      ]
     },
     "metadata": {},
     "output_type": "display_data"
    }
   ],
   "source": [
    "xmin, xmax = -2, 2\n",
    "xx = np.linspace(xmin * 1.15, xmax * 1.15, 1000).reshape(-1, 1) \n",
    "\n",
    "X = np.array([0.]).reshape(-1,1)\n",
    "Y = np.array([0.]).reshape(-1,1)\n",
    "k = gpflow.kernels.Matern12()\n",
    "s = Interpolant(k, X, Y)\n",
    "\n",
    "fig = plt.figure()\n",
    "plt.title(\"\".join([\"$\\Vert f \\Vert_\\mathcal{H} = \\;$\", str(round(s.norm(),2))]))\n",
    "plt.xlabel('$x$')\n",
    "plt.ylabel('$f(x)$')\n",
    "fig.axes[0].yaxis.set_label_coords(-0.03, .5)\n",
    "fig.axes[0].xaxis.set_label_coords(0.5, -0.05)\n",
    "plt.plot(xx.reshape(-1), s(xx).reshape(-1) , color=plot_params.colors[\"red\"])\n",
    "plt.xlim(xmin*1.1,xmax*1.1)\n",
    "plt.ylim(-1,1)\n",
    "plt.xticks([])\n",
    "plt.yticks([])\n",
    "\n",
    "filename = 'chap2_rkhs_member_2'\n",
    "plt.savefig(\"\".join([plot_params.path_to_img_folder, filename, \".svg\"]), bbox_inches='tight', pad_inches = 0.02)"
   ]
  },
  {
   "cell_type": "code",
   "execution_count": 12,
   "metadata": {},
   "outputs": [
    {
     "data": {
      "image/png": "[encoded data removed]",
      "text/plain": [
       "<Figure size 180x150 with 1 Axes>"
      ]
     },
     "metadata": {},
     "output_type": "display_data"
    }
   ],
   "source": [
    "xmin, xmax = -3, 3\n",
    "xx = np.linspace(xmin * 1.15, xmax * 1.15, 1000).reshape(-1, 1) \n",
    "\n",
    "X = np.array([-1., 1.]).reshape(-1,1)\n",
    "Y = np.array([1., 1.]).reshape(-1,1)\n",
    "k = gpflow.kernels.Matern12()\n",
    "s = Interpolant(k, X, Y)\n",
    "\n",
    "fig = plt.figure()\n",
    "plt.title(\"\".join([\"$\\Vert f \\Vert_\\mathcal{H} = \\;$\", str(round(s.norm(),2))]))\n",
    "plt.xlabel('$x$')\n",
    "plt.ylabel('$f(x)$')\n",
    "fig.axes[0].yaxis.set_label_coords(-0.03, .5)\n",
    "fig.axes[0].xaxis.set_label_coords(0.5, -0.05)\n",
    "plt.plot(xx.reshape(-1), s(xx).reshape(-1) , color=plot_params.colors[\"red\"])\n",
    "plt.xlim(xmin*1.1,xmax*1.1)\n",
    "plt.ylim(-0,1.2)\n",
    "plt.xticks([])\n",
    "plt.yticks([])\n",
    "\n",
    "filename = 'chap2_rkhs_member_3'\n",
    "plt.savefig(\"\".join([plot_params.path_to_img_folder, filename, \".svg\"]), bbox_inches='tight', pad_inches = 0.02)"
   ]
  },
  {
   "cell_type": "code",
   "execution_count": 13,
   "metadata": {},
   "outputs": [
    {
     "data": {
      "image/png": "[encoded data removed]",
      "text/plain": [
       "<Figure size 180x150 with 1 Axes>"
      ]
     },
     "metadata": {},
     "output_type": "display_data"
    }
   ],
   "source": [
    "xmin, xmax = -2, 2\n",
    "xx = np.linspace(xmin * 1.15, xmax * 1.15, 1000).reshape(-1, 1) \n",
    "\n",
    "X = np.array([0.]).reshape(-1,1)\n",
    "Y = np.array([.5]).reshape(-1,1)\n",
    "k = gpflow.kernels.Matern12()\n",
    "s = Interpolant(k, X, Y)\n",
    "\n",
    "fig = plt.figure()\n",
    "plt.title(\"\".join([\"$\\Vert f \\Vert_\\mathcal{H} = \\;$\", str(round(s.norm(),2))]))\n",
    "plt.xlabel('$x$')\n",
    "plt.ylabel('$f(x)$')\n",
    "fig.axes[0].yaxis.set_label_coords(-0.03, .5)\n",
    "fig.axes[0].xaxis.set_label_coords(0.5, -0.05)\n",
    "plt.plot(xx.reshape(-1), s(xx).reshape(-1) , color=plot_params.colors[\"red\"])\n",
    "plt.xlim(xmin*1.1,xmax*1.1)\n",
    "plt.ylim(0,1.1)\n",
    "plt.xticks([])\n",
    "plt.yticks([])\n",
    "\n",
    "filename = 'chap2_rkhs_member_4'\n",
    "plt.savefig(\"\".join([plot_params.path_to_img_folder, filename, \".svg\"]), bbox_inches='tight', pad_inches = 0.02)"
   ]
  },
  {
   "cell_type": "code",
   "execution_count": 85,
   "metadata": {},
   "outputs": [
    {
     "data": {
      "image/png": "[encoded data removed]",
      "text/plain": [
       "<Figure size 180x150 with 1 Axes>"
      ]
     },
     "metadata": {},
     "output_type": "display_data"
    }
   ],
   "source": [
    "np.random.seed(2) \n",
    "\n",
    "xmin, xmax = -2, 2\n",
    "xx = np.linspace(xmin * 1.15, xmax * 1.15, 1000).reshape(-1, 1) \n",
    "\n",
    "N = 6\n",
    "ymin, ymax = -3, 3\n",
    "X = np.random.uniform(xmin, xmax, (N, 1)).reshape(-1,1)\n",
    "Y = np.random.uniform(ymin, ymax, (N, 1)).reshape(-1,1)\n",
    "k = gpflow.kernels.Matern12()\n",
    "s = Interpolant(k, X, Y)\n",
    "\n",
    "fig = plt.figure()\n",
    "plt.title(\"\".join([\"$\\Vert f \\Vert_\\mathcal{H} = \\;$\", str(round(s.norm(),2))]))\n",
    "plt.xlabel('$x$')\n",
    "plt.ylabel('$f(x)$')\n",
    "fig.axes[0].yaxis.set_label_coords(-0.03, .5)\n",
    "fig.axes[0].xaxis.set_label_coords(0.5, -0.05)\n",
    "plt.plot(xx.reshape(-1), s(xx).reshape(-1) , color=plot_params.colors[\"red\"])\n",
    "plt.xlim(xmin*1.1,xmax*1.1)\n",
    "plt.ylim(-2,2)\n",
    "plt.xticks([])\n",
    "plt.yticks([])\n",
    "\n",
    "filename = 'chap2_rkhs_member_5'\n",
    "plt.savefig(\"\".join([plot_params.path_to_img_folder, filename, \".svg\"]), bbox_inches='tight', pad_inches = 0.02)"
   ]
  },
  {
   "cell_type": "code",
   "execution_count": 86,
   "metadata": {},
   "outputs": [
    {
     "data": {
      "image/png": "[encoded data removed]",
      "text/plain": [
       "<Figure size 180x150 with 1 Axes>"
      ]
     },
     "metadata": {},
     "output_type": "display_data"
    }
   ],
   "source": [
    "np.random.seed(10) \n",
    "\n",
    "xmin, xmax = -2, 2\n",
    "xx = np.linspace(xmin*1.5, xmax*1.5, 1000).reshape(-1, 1) \n",
    "\n",
    "N = 100\n",
    "ymin, ymax = -1.5, 1.5\n",
    "\n",
    "#X = np.random.uniform(xmin, xmax, (N, 1)).reshape(-1,1)\n",
    "X = np.random.normal(0, 0.7, (N, 1)).reshape(-1,1)\n",
    "\n",
    "Y = np.random.uniform(ymin, ymax, (N, 1)).reshape(-1,1)\n",
    "#Y = np.random.normal(0.1, 0.5, (N, 1)).reshape(-1,1)\n",
    "\n",
    "k = gpflow.kernels.Matern12()\n",
    "s = Interpolant(k, X, Y)\n",
    "\n",
    "fig = plt.figure()\n",
    "plt.title(\"\".join([\"$\\Vert f \\Vert_\\mathcal{H} = \\;$\", str(round(s.norm(),2))]))\n",
    "plt.xlabel('$x$')\n",
    "plt.ylabel('$f(x)$')\n",
    "fig.axes[0].yaxis.set_label_coords(-0.03, .5)\n",
    "fig.axes[0].xaxis.set_label_coords(0.5, -0.05)\n",
    "plt.plot(xx.reshape(-1), s(xx).reshape(-1) , color=plot_params.colors[\"red\"])\n",
    "plt.xlim(xmin*1.2,xmax*1.2)\n",
    "plt.ylim(-2,2)\n",
    "plt.xticks([])\n",
    "plt.yticks([])\n",
    "\n",
    "filename = 'chap2_rkhs_member_6'\n",
    "plt.savefig(\"\".join([plot_params.path_to_img_folder, filename, \".svg\"]), bbox_inches='tight', pad_inches = 0.02)"
   ]
  },
  {
   "cell_type": "code",
   "execution_count": 88,
   "metadata": {},
   "outputs": [
    {
     "data": {
      "image/png": "[encoded data removed]",
      "text/plain": [
       "<Figure size 180x150 with 1 Axes>"
      ]
     },
     "metadata": {},
     "output_type": "display_data"
    }
   ],
   "source": [
    "np.random.seed(10) \n",
    "\n",
    "xmin, xmax = -6, 6\n",
    "xx = np.linspace(xmin*1.2, xmax*1.2, 1000).reshape(-1, 1) \n",
    "\n",
    "N = 100\n",
    "ymin, ymax = -1.5, 1.5\n",
    "\n",
    "X = np.random.uniform(xmin, xmax, (N, 1)).reshape(-1,1)\n",
    "Y = np.sin(X).reshape(-1,1)\n",
    "#Y = np.random.normal(0.1, 0.5, (N, 1)).reshape(-1,1)\n",
    "\n",
    "k = gpflow.kernels.Matern12()\n",
    "s = Interpolant(k, X, Y)\n",
    "\n",
    "fig = plt.figure()\n",
    "plt.title(\"\".join([\"$\\Vert f \\Vert_\\mathcal{H} = \\;$\", str(round(s.norm(),2))]))\n",
    "plt.xlabel('$x$')\n",
    "plt.ylabel('$f(x)$')\n",
    "fig.axes[0].yaxis.set_label_coords(-0.03, .5)\n",
    "fig.axes[0].xaxis.set_label_coords(0.5, -0.05)\n",
    "plt.plot(xx.reshape(-1), s(xx).reshape(-1) , color=plot_params.colors[\"red\"])\n",
    "plt.xlim(xmin,xmax)\n",
    "plt.ylim(-2,2)\n",
    "plt.xticks([])\n",
    "plt.yticks([])\n",
    "\n",
    "filename = 'chap2_rkhs_member_7'\n",
    "plt.savefig(\"\".join([plot_params.path_to_img_folder, filename, \".svg\"]), bbox_inches='tight', pad_inches = 0.02)"
   ]
  },
  {
   "cell_type": "code",
   "execution_count": 114,
   "metadata": {},
   "outputs": [
    {
     "data": {
      "image/png": "[encoded data removed]",
      "text/plain": [
       "<Figure size 180x150 with 1 Axes>"
      ]
     },
     "metadata": {},
     "output_type": "display_data"
    }
   ],
   "source": [
    "np.random.seed(10) \n",
    "\n",
    "xmin, xmax = -5, 5\n",
    "xx = np.linspace(xmin*1.5, xmax*1.5, 1000).reshape(-1, 1) \n",
    "\n",
    "N = 300\n",
    "ymin, ymax = -1.5, 1.5\n",
    "\n",
    "X = np.random.uniform(xmin, xmax, (N, 1)).reshape(-1,1)\n",
    "Y = np.heaviside(X, 100).reshape(-1,1)\n",
    "Y = np.absolute(X).reshape(-1,1)\n",
    "Y = np.tanh(X).reshape(-1,1)\n",
    "\n",
    "k = gpflow.kernels.Matern12()\n",
    "s = Interpolant(k, X, Y)\n",
    "\n",
    "fig = plt.figure()\n",
    "plt.title(\"\".join([\"$\\Vert f \\Vert_\\mathcal{H} = \\;$\", str(round(s.norm(),2))]))\n",
    "plt.xlabel('$x$')\n",
    "plt.ylabel('$f(x)$')\n",
    "fig.axes[0].yaxis.set_label_coords(-0.03, .5)\n",
    "fig.axes[0].xaxis.set_label_coords(0.5, -0.05)\n",
    "plt.plot(xx.reshape(-1), s(xx).reshape(-1) , color=plot_params.colors[\"red\"])\n",
    "plt.xlim(xmin*.9,xmax*.9)\n",
    "plt.xticks([])\n",
    "plt.yticks([])\n",
    "\n",
    "filename = 'chap2_rkhs_member_8'\n",
    "plt.savefig(\"\".join([plot_params.path_to_img_folder, filename, \".svg\"]), bbox_inches='tight', pad_inches = 0.02)"
   ]
  },
  {
   "cell_type": "code",
   "execution_count": 110,
   "metadata": {},
   "outputs": [
    {
     "data": {
      "image/png": "[encoded data removed]",
      "text/plain": [
       "<Figure size 180x150 with 1 Axes>"
      ]
     },
     "metadata": {},
     "output_type": "display_data"
    }
   ],
   "source": [
    "np.random.seed(10) \n",
    "\n",
    "xmin, xmax = -6, 6\n",
    "xx = np.linspace(xmin*1.2, xmax*1.2, 1000).reshape(-1, 1) \n",
    "\n",
    "N = 300\n",
    "ymin, ymax = -1.5, 1.5\n",
    "\n",
    "X = np.random.uniform(xmin, xmax, (N, 1)).reshape(-1,1)\n",
    "Y = np.heaviside(X, 100).reshape(-1,1)\n",
    "Y = np.absolute(X).reshape(-1,1)\n",
    "Y = np.tanh(X).reshape(-1,1)\n",
    "\n",
    "k = gpflow.kernels.SquaredExponential()\n",
    "s = Interpolant(k, X, Y)\n",
    "\n",
    "fig = plt.figure()\n",
    "plt.title(\"\".join([\"$\\Vert f \\Vert_\\mathcal{H} = \\;$\", str(round(s.norm(),2))]))\n",
    "plt.xlabel('$x$')\n",
    "plt.ylabel('$f(x)$')\n",
    "fig.axes[0].yaxis.set_label_coords(-0.03, .5)\n",
    "fig.axes[0].xaxis.set_label_coords(0.5, -0.05)\n",
    "plt.plot(xx.reshape(-1), s(xx).reshape(-1) , color=plot_params.colors[\"red\"])\n",
    "plt.xlim(xmin,xmax)\n",
    "#plt.ylim(-2,2)\n",
    "plt.xticks([])\n",
    "plt.yticks([])\n",
    "\n",
    "filename = 'chap2_rkhs_member_8'\n",
    "plt.savefig(\"\".join([plot_params.path_to_img_folder, filename, \".svg\"]), bbox_inches='tight', pad_inches = 0.02)a"
   ]
  },
  {
   "cell_type": "code",
   "execution_count": null,
   "metadata": {},
   "outputs": [],
   "source": []
  }
 ],
 "metadata": {
  "kernelspec": {
   "display_name": "Python 3.8.2 ('venv': venv)",
   "language": "python",
   "name": "python3"
  },
  "language_info": {
   "codemirror_mode": {
    "name": "ipython",
    "version": 3
   },
   "file_extension": ".py",
   "mimetype": "text/x-python",
   "name": "python",
   "nbconvert_exporter": "python",
   "pygments_lexer": "ipython3",
   "version": "3.8.2"
  },
  "orig_nbformat": 4,
  "vscode": {
   "interpreter": {
    "hash": "7edd9c65b3d2defd8b81d382d1db8b53ad20c31ee2c23ba60708737257b317bb"
   }
  }
 },
 "nbformat": 4,
 "nbformat_minor": 2
}
