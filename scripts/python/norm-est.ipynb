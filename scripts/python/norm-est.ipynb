{
 "cells": [
  {
   "cell_type": "code",
   "execution_count": 74,
   "metadata": {},
   "outputs": [],
   "source": [
    "import numpy as np\n",
    "import cvxpy as cp\n",
    " \n",
    "import matplotlib.pyplot as plt\n",
    "import plot_params\n",
    "plt.rcParams.update(plot_params.fig_params) \n",
    "\n",
    "from utils.kernels import Kernel_se\n",
    "\n",
    "np.random.seed(100) #100\n",
    "save_file_name = \"norm_est\""
   ]
  },
  {
   "cell_type": "code",
   "execution_count": 75,
   "metadata": {},
   "outputs": [],
   "source": [
    "def rkhs_norm_noiseless(fX, X):\n",
    "    k = Kernel_se()\n",
    "    jitter = 1e-5\n",
    "    K = k(X,X) + jitter*np.eye(X.shape[0])\n",
    "    return np.sqrt(fX.T @ np.linalg.solve(K, fX))\n",
    "\n",
    "class Ground_truth():\n",
    "    \n",
    "    def __init__(self):\n",
    "\n",
    "        self.x_min = -5\n",
    "        self.x_max = 5\n",
    "        self.n_components = 100       \n",
    "        self.kernel = Kernel_se()\n",
    "        self.centers = np.random.uniform(low=self.x_min, high=self.x_max, size=(self.n_components,)) \n",
    "        self.coefficients = np.random.uniform(low=-2, high=2, size=(self.n_components,))\n",
    "        \n",
    "    def __call__(self, x):\n",
    "        \n",
    "        a = self.kernel(self.centers.reshape(-1,1), x.reshape(-1,1))\n",
    "        b = self.coefficients.reshape(-1,1)\n",
    "        return a.T @ b\n",
    "    \n",
    "    @property\n",
    "    def rkhs_norm(self):\n",
    "        alpha = self.coefficients.reshape(-1,1)\n",
    "        X = self.centers.reshape(-1,1)\n",
    "        return np.sqrt(alpha.T @ self.kernel(X,X) @ alpha)"
   ]
  },
  {
   "cell_type": "code",
   "execution_count": 76,
   "metadata": {},
   "outputs": [
    {
     "data": {
      "image/png": "[encoded data removed]",
      "text/plain": [
       "<Figure size 260x150 with 1 Axes>"
      ]
     },
     "metadata": {},
     "output_type": "display_data"
    }
   ],
   "source": [
    "f = Ground_truth()\n",
    "density = 300\n",
    "x_aug_factor = 1.2\n",
    "xx = np.linspace(f.x_min*x_aug_factor, f.x_max*x_aug_factor, density)\n",
    "fxx = f(xx)\n",
    "\n",
    "n_samples = 60\n",
    "x_samples = np.random.uniform(f.x_min*x_aug_factor, f.x_max*x_aug_factor, size=(n_samples,))    \n",
    "\n",
    "plt.plot(xx,fxx, color=plot_params.polt_colors['pastel_red'])\n",
    "plt.scatter(x_samples, f(x_samples), \n",
    "            s=7, lw=0.5, alpha=0.7, \n",
    "            c=plot_params.polt_colors['pastel_red'], \n",
    "            edgecolors=plot_params.polt_colors['pastel_red'])\n",
    "\n",
    "plt.xlabel(\"$x$\")\n",
    "plt.ylabel(\"$f(x)$\")\n",
    "plt.xticks(np.linspace(-6,6,5))\n",
    "plt.yticks([-5, 0, 5, 10])\n",
    "plt.ylim(-5,10)\n",
    "plt.savefig(\"\".join([plot_params.path_to_img_folder, save_file_name, \".pdf\"]), bbox_inches='tight')#, pad_inches = 0)"
   ]
  },
  {
   "cell_type": "code",
   "execution_count": 77,
   "metadata": {},
   "outputs": [
    {
     "data": {
      "image/png": "[encoded data removed]",
      "text/plain": [
       "<Figure size 260x150 with 1 Axes>"
      ]
     },
     "metadata": {},
     "output_type": "display_data"
    }
   ],
   "source": [
    "norm = np.array([rkhs_norm_noiseless(f(x_samples[0:n]),x_samples[0:n]) for n in range(1,n_samples+1)]).reshape(-1,1)\n",
    "\n",
    "plt.plot(np.arange(0, n_samples+1), np.append(0, norm), color=plot_params.polt_colors['pastel_red'])\n",
    "\n",
    "plt.axhline(y = f.rkhs_norm, color='k', linestyle='--', alpha=0.8)\n",
    "plt.xticks([0, 15, 30, 45, 60])\n",
    "plt.xlim(0, 60)\n",
    "plt.yticks([0, 5, 10, 15])\n",
    "plt.ylim(0, 15)\n",
    "plt.xlabel(\"$n$\")\n",
    "plt.ylabel(\"$\\Vert s_n \\Vert_\\mathcal{H}$\")\n",
    "plt.text(50, 12, \"$\\Vert f \\Vert_\\mathcal{H}$\", fontsize=6)\n",
    "plt.savefig(\"\".join([plot_params.path_to_img_folder, \"norm_value\", \".pdf\"]), bbox_inches='tight')#, pad_inches = 0)"
   ]
  },
  {
   "cell_type": "code",
   "execution_count": 71,
   "metadata": {},
   "outputs": [
    {
     "data": {
      "image/png": "[encoded data removed]",
      "text/plain": [
       "<Figure size 260x150 with 1 Axes>"
      ]
     },
     "metadata": {},
     "output_type": "display_data"
    }
   ],
   "source": [
    "#noise = np.random.normal(0, 0.015, n_samples).reshape(-1,1)\n",
    "\n",
    "delta_bar = 0.01\n",
    "noise = np.random.uniform(-delta_bar, delta_bar, n_samples).reshape(-1,1)\n",
    "\n",
    "fx = f(x_samples) \n",
    "y = fx + noise\n",
    "noisy_norm = np.array([rkhs_norm_noiseless(y[0:n],x_samples[0:n]) for n in range(1,n_samples+1)]).reshape(-1,1)\n",
    "\n",
    "plt.plot(np.arange(0, n_samples+1), np.append(0, noisy_norm), color=plot_params.polt_colors['pastel_red'])\n",
    "plt.axhline(y = f.rkhs_norm, color='k', linestyle='--', alpha=0.8)\n",
    "\n",
    "plt.xticks([0, 15, 30, 45, 60])\n",
    "plt.xlim(0, 60)\n",
    "plt.yticks([0, 10, 20, 30])\n",
    "plt.ylim(0, 30)\n",
    "plt.xlabel(\"$n$\")\n",
    "plt.ylabel(\"$\\Vert \\\\tilde{s}_n \\Vert_\\mathcal{H}$\")\n",
    "plt.text(50, 12, \"$\\Vert f \\Vert_\\mathcal{H}$\", fontsize=6)\n",
    "plt.savefig(\"\".join([plot_params.path_to_img_folder, \"norm_value_noisy\", \".pdf\"]), bbox_inches='tight')#, pad_inches = 0)"
   ]
  },
  {
   "cell_type": "code",
   "execution_count": 73,
   "metadata": {},
   "outputs": [
    {
     "data": {
      "text/plain": [
       "<matplotlib.lines.Line2D at 0x17ec3fe50>"
      ]
     },
     "execution_count": 73,
     "metadata": {},
     "output_type": "execute_result"
    },
    {
     "data": {
      "image/png": "[encoded data removed]",
      "text/plain": [
       "<Figure size 260x150 with 1 Axes>"
      ]
     },
     "metadata": {},
     "output_type": "display_data"
    }
   ],
   "source": [
    "def norm_delta(X, y, delta_bar):\n",
    "    \n",
    "    k = Kernel_se()\n",
    "    jitter = 1e-8\n",
    "    K = k(X,X) + jitter*np.eye(X.shape[0])\n",
    "    K_inv_y = np.linalg.solve(K, y)\n",
    "\n",
    "    delta = cp.Variable(X.shape[0])    \n",
    "    obj = cp.Minimize(cp.matrix_frac(delta, K) - 2*delta.T @ K_inv_y)\n",
    "    constr = [cp.abs(delta) <= delta_bar]\n",
    "\n",
    "    prob = cp.Problem(obj, constr)\n",
    "    prob.solve()\n",
    "    return -prob.value\n",
    "\n",
    "noisy_norm_lower_est = np.array([rkhs_norm_noiseless(y[0:n],x_samples[0:n]) - norm_delta(x_samples[0:n],y[0:n],delta_bar) \n",
    "                                 for n in range(1,n_samples+1)]).reshape(-1,1)\n",
    "\n",
    "plt.plot(np.arange(0, n_samples+1), np.append(0, noisy_norm), color=plot_params.polt_colors['pastel_red'])\n",
    "plt.plot(np.arange(0, n_samples+1), np.append(0, noisy_norm_lower_est), color=plot_params.polt_colors['pastel_green'])\n",
    "plt.axhline(y = f.rkhs_norm, color='k', linestyle='--', alpha=0.8)\n"
   ]
  },
  {
   "cell_type": "code",
   "execution_count": 28,
   "metadata": {},
   "outputs": [
    {
     "data": {
      "text/plain": [
       "-1.0900601128471143"
      ]
     },
     "execution_count": 28,
     "metadata": {},
     "output_type": "execute_result"
    }
   ],
   "source": []
  }
 ],
 "metadata": {
  "kernelspec": {
   "display_name": "Python 3.8.2 ('venv': venv)",
   "language": "python",
   "name": "python3"
  },
  "language_info": {
   "codemirror_mode": {
    "name": "ipython",
    "version": 3
   },
   "file_extension": ".py",
   "mimetype": "text/x-python",
   "name": "python",
   "nbconvert_exporter": "python",
   "pygments_lexer": "ipython3",
   "version": "3.8.2"
  },
  "orig_nbformat": 4,
  "vscode": {
   "interpreter": {
    "hash": "7edd9c65b3d2defd8b81d382d1db8b53ad20c31ee2c23ba60708737257b317bb"
   }
  }
 },
 "nbformat": 4,
 "nbformat_minor": 2
}
